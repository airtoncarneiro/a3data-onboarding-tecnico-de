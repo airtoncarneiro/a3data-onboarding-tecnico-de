{
  "nbformat": 4,
  "nbformat_minor": 0,
  "metadata": {
    "colab": {
      "name": "TESTE PRÁTICO - SQL.ipynb",
      "provenance": []
    },
    "kernelspec": {
      "name": "python3",
      "display_name": "Python 3"
    },
    "language_info": {
      "name": "python"
    }
  },
  "cells": [
    {
      "cell_type": "markdown",
      "metadata": {
        "id": "ls0vTQwK0C6z"
      },
      "source": [
        "# TESTE PRÁTICO DE LINGUAGEM DE CONSULTA ESTRUTURADA (SQL)\n",
        "Para a realização das atividades, você deverá executar as instruções abaixo para importar as bibliotecas e funções necessárias para criar a base de dados.\n",
        "\n",
        "Ao final, esperamos que você desenvolva os códigos selecionados e entregue o notebook com as consultas SQL desenvolvidas e o arquivo .db criado.\n"
      ]
    },
    {
      "cell_type": "markdown",
      "metadata": {
        "id": "YD9I0i8qRVCo"
      },
      "source": [
        "# INSTRUÇÕES PARA REALIZAR AS CONSULTAS\n",
        "### PARA CONSULTAR DADOS, SIGA OS PASSOS ABAIXO:\n",
        "\n",
        "#### Abrir conexão:\n",
        "    conexao_sql = sqlite3.connect(banco)\n",
        "#### Abrir cursor para executar consulta no banco:\n",
        "    cursor = conexao_sql.cursor()\n",
        "#### Criar uma consulta:\n",
        "    consulta = '''\n",
        "        Coloque aqui a sua instrução;*\n",
        "    '''\n",
        "    cursor.execute(consulta)\n",
        "#### Para visualizar o resultado da sua consulta:\n",
        "    for linha in cursor:\n",
        "      print(linha)\n",
        "#### Para fechar a conexão:\n",
        "    conexao_sql.close()\n",
        "\n",
        "### LEMBRE-SE DE QUE PYTHON É SENSÍVEL A IDENTAÇÃO DE CÓDIGO!"
      ]
    },
    {
      "cell_type": "markdown",
      "metadata": {
        "id": "Q-JtQam4AsEU"
      },
      "source": [
        "# IMPORT DAS BIBLIOTECAS NECESSÁRIAS PARA EXECUTAR OS CÓDIGOS EM SQL"
      ]
    },
    {
      "cell_type": "code",
      "metadata": {
        "id": "0CBwbpEfAl5m"
      },
      "source": [
        "import sqlite3\n",
        "import csv\n",
        "from collections import defaultdict"
      ],
      "execution_count": 21,
      "outputs": []
    },
    {
      "cell_type": "markdown",
      "metadata": {
        "id": "-pbN5gB4MsUO"
      },
      "source": [
        "# DEFINIÇÃO DE VARIÁVEIS FIXAS PARA O PROJETO"
      ]
    },
    {
      "cell_type": "code",
      "metadata": {
        "id": "MExXbyvGMvoE"
      },
      "source": [
        "banco = \"teste_sql.db\""
      ],
      "execution_count": 47,
      "outputs": []
    },
    {
      "cell_type": "markdown",
      "metadata": {
        "id": "REYwFNTZ5u93"
      },
      "source": [
        "# FUNÇÃO PARA INSERIR REGISTROS NO BANCO DE DADOS"
      ]
    },
    {
      "cell_type": "code",
      "metadata": {
        "id": "-ocVcmyN5uHv"
      },
      "source": [
        "# Recebe como parâmetro\n",
        "# 1. Nome do banco de dados\n",
        "# 2. Nome da tabela que receberá os dados\n",
        "# 3. Lista das colunas da tabela\n",
        "# 4. Dados que serão inseridos\n",
        "\n",
        "def inserir_registros(banco, tabela, lista_colunas, arquivo):\n",
        "  conexao_sql = sqlite3.connect(banco)\n",
        "  cursor = conexao_sql.cursor()\n",
        "  dados = open(arquivo)\n",
        "  conteudo_dados = csv.reader(dados)\n",
        "  num_colunas = 1 if lista_colunas.count(',') == 1 else lista_colunas.count(',')\n",
        "  string_insert = 'INSERT INTO ' + tabela + ' (' + lista_colunas + ') VALUES (?' + ('' if num_colunas == 1 else ', ?' * (num_colunas)) + ')'\n",
        "  cursor.executemany(string_insert, conteudo_dados)\n",
        "  conexao_sql.commit()\n",
        "  conexao_sql.close()"
      ],
      "execution_count": 51,
      "outputs": []
    },
    {
      "cell_type": "markdown",
      "metadata": {
        "id": "ZDzP63LXB-Yb"
      },
      "source": [
        "# CRIAÇÃO DE CONEXÃO COM O BANCO SQLITE3 PARA DESENVOLVIMENTO DA ATIVIDADE"
      ]
    },
    {
      "cell_type": "code",
      "metadata": {
        "id": "3XY-opKGB-Fc"
      },
      "source": [
        "# Abre conexão com o banco. Se o arquivo não existir, cria a base.\n",
        "conexao_sql = sqlite3.connect(banco)\n",
        "conexao_sql.close()"
      ],
      "execution_count": 56,
      "outputs": []
    },
    {
      "cell_type": "markdown",
      "metadata": {
        "id": "HnUMa9XnCcKb"
      },
      "source": [
        "# CRIAÇÃO DAS TABELAS PARA REALIZAÇÃO DAS ATIVIDADES"
      ]
    },
    {
      "cell_type": "markdown",
      "metadata": {
        "id": "YuyEsU8WAZZm"
      },
      "source": [
        "### TABELA DE USUÁRIOS"
      ]
    },
    {
      "cell_type": "code",
      "metadata": {
        "id": "GrzK24ITCS-O"
      },
      "source": [
        "conexao_sql = sqlite3.connect(banco)\n",
        "arquivo_usuarios = 'usuarios.csv'\n",
        "# CRIAR A TABELA\n",
        "conexao_sql.execute('''\n",
        "CREATE TABLE IF NOT EXISTS usuarios\n",
        "(\n",
        "  cod_usuario INTEGER NOT NULL,\n",
        "  data_cadastro DATE NOT NULL,\n",
        "  faixa_etaria TEXT,\n",
        "  cidade TEXT NOT NULL,\n",
        "  estado TEXT NOT NULL);'''\n",
        ")\n",
        "conexao_sql.commit()\n",
        "\n",
        "# INSERIR OS REGISTROS NO BANCO DE DADOS\n",
        "lista_campos = 'cod_usuario, data_cadastro, faixa_etaria, cidade, estado'\n",
        "inserir_registros(banco, 'usuarios', lista_campos, arquivo_usuarios)"
      ],
      "execution_count": 57,
      "outputs": []
    },
    {
      "cell_type": "markdown",
      "metadata": {
        "id": "DoMfz7RxJQzZ"
      },
      "source": [
        "### TABELA DE PRODUTOS"
      ]
    },
    {
      "cell_type": "code",
      "metadata": {
        "id": "qgL8Rka-JTPI"
      },
      "source": [
        "conexao_sql = sqlite3.connect(banco)\n",
        "arquivo_produtos = 'produtos.csv'\n",
        "# CRIAR A TABELA\n",
        "conexao_sql.execute('''\n",
        "CREATE TABLE IF NOT EXISTS produtos\n",
        "(\n",
        "  cod_produto INTEGER NOT NULL,\n",
        "  nome_produto TEXT NOT NULL,\n",
        "  categoria_produto TEXT,\n",
        "  valor_produto FLOAT);'''\n",
        ")\n",
        "conexao_sql.commit()\n",
        "\n",
        "# INSERIR OS REGISTROS NO BANCO DE DADOS\n",
        "lista_campos = 'cod_produto, nome_produto, categoria_produto, valor_produto'\n",
        "inserir_registros(banco, 'produtos', lista_campos, arquivo_produtos)"
      ],
      "execution_count": 58,
      "outputs": []
    },
    {
      "cell_type": "markdown",
      "metadata": {
        "id": "Hgyf94onJxDN"
      },
      "source": [
        "### TABELA DE VENDAS"
      ]
    },
    {
      "cell_type": "code",
      "metadata": {
        "id": "8Wb1heaCNukB"
      },
      "source": [
        "conexao_sql = sqlite3.connect(banco)\n",
        "arquivo_vendas = 'vendas.csv'\n",
        "# CRIAR A TABELA\n",
        "conexao_sql.execute('''\n",
        "CREATE TABLE IF NOT EXISTS vendas\n",
        "(\n",
        "  cod_usuario INTEGER NOT NULL,\n",
        "  cod_produto INTEGER NOT NULL,\n",
        "  data_compra DATE NOT NULL,\n",
        "  quantidade INT NOT NULL,\n",
        "  valor FLOAT NOT NULL);'''\n",
        ")\n",
        "conexao_sql.commit()\n",
        "\n",
        "# INSERIR OS REGISTROS NO BANCO DE DADOS\n",
        "lista_campos = 'cod_usuario, cod_produto, data_compra, quantidade, valor'\n",
        "inserir_registros(banco, 'vendas', lista_campos, arquivo_vendas)"
      ],
      "execution_count": 59,
      "outputs": []
    },
    {
      "cell_type": "markdown",
      "metadata": {
        "id": "nRJNYDRWTgiL"
      },
      "source": [
        "# PERGUNTA 1:\n",
        "\n",
        "### Escreva um comando em SQL que retorne a quantidade de vendas dos estados de Minas Gerais e São Paulo por ano e mês"
      ]
    },
    {
      "cell_type": "code",
      "metadata": {
        "id": "ed_t8KnbRVz2"
      },
      "source": [
        ""
      ],
      "execution_count": 59,
      "outputs": []
    },
    {
      "cell_type": "markdown",
      "metadata": {
        "id": "tvNgeJxYTswO"
      },
      "source": [
        "# PERGUNTA 2:\n",
        "\n",
        "### Escreva um comando em SQL que retorne o ticket médio e quantidade de compras realizadas dos usuários que fizeram compras entre 2019 e 2020 e que tiveram mais de 3 compras no período"
      ]
    },
    {
      "cell_type": "code",
      "metadata": {
        "id": "svQauyVNT-mH"
      },
      "source": [
        ""
      ],
      "execution_count": null,
      "outputs": []
    },
    {
      "cell_type": "markdown",
      "metadata": {
        "id": "GM_4SLAWT_ul"
      },
      "source": [
        "# PERGUNTA 3:\n",
        "\n",
        "### Escreva um comando em SQL que retorne quais são os usuários por estado que fizeram mais compras em todo o período analisado e o total de itens comprados e valor total pago"
      ]
    },
    {
      "cell_type": "code",
      "metadata": {
        "id": "vhAIeozJUL9X"
      },
      "source": [
        ""
      ],
      "execution_count": null,
      "outputs": []
    },
    {
      "cell_type": "markdown",
      "metadata": {
        "id": "dJdjxIQSUMwC"
      },
      "source": [
        "# PERGUNTA 4:\n",
        "\n",
        "### Escreva um comando em SQL que retorne quais são os 3 produtos mais comprados dos estados da região Sul e Sudeste"
      ]
    },
    {
      "cell_type": "code",
      "metadata": {
        "id": "c-KIw9HKUgDT"
      },
      "source": [
        ""
      ],
      "execution_count": null,
      "outputs": []
    },
    {
      "cell_type": "markdown",
      "metadata": {
        "id": "bmx2pcfKUv-m"
      },
      "source": [
        "# PERGUNTA 5:\n",
        "\n",
        "### Escreva um comando em SQL que retorne o ticket médio e o número total de usuários que fizeram pelo menos uma compra por faixa etária"
      ]
    },
    {
      "cell_type": "code",
      "metadata": {
        "id": "UjYCTpfaVBDg"
      },
      "source": [
        ""
      ],
      "execution_count": null,
      "outputs": []
    },
    {
      "cell_type": "markdown",
      "metadata": {
        "id": "fex3Fh4NVCQw"
      },
      "source": [
        "# PERGUNTA 6:\n",
        "\n",
        "### Escreva um comando em SQL que aplique um desconto de 10% em todas as vendas dos usuários que fizeram pelo menos 3 compras de produtos na mesma categoria, a partir da 4ª compra realizada"
      ]
    },
    {
      "cell_type": "code",
      "metadata": {
        "id": "9iXs_R3tVMdI"
      },
      "source": [
        ""
      ],
      "execution_count": null,
      "outputs": []
    },
    {
      "cell_type": "markdown",
      "metadata": {
        "id": "clJo4yCJVM8W"
      },
      "source": [
        "# PERGUNTA 7\n",
        "\n",
        "### Escreva um comando em SQL que retorna o produto, quantos usuários fizeram pelo menos uma compra desse produto e qual é o valor mínimo e máximo pago"
      ]
    },
    {
      "cell_type": "code",
      "metadata": {
        "id": "u1gqzHI6WeAM"
      },
      "source": [
        ""
      ],
      "execution_count": null,
      "outputs": []
    },
    {
      "cell_type": "markdown",
      "metadata": {
        "id": "GeTVczKEwgsa"
      },
      "source": [
        "# PERGUNTA 8\n",
        "\n",
        "### Escreva um comando em SQL que retorne o total de compras realizadas"
      ]
    },
    {
      "cell_type": "code",
      "metadata": {
        "id": "yA8QeAYCwlqs"
      },
      "source": [
        ""
      ],
      "execution_count": null,
      "outputs": []
    },
    {
      "cell_type": "markdown",
      "metadata": {
        "id": "x-z1FIOswmUD"
      },
      "source": [
        "# PERGUNTA 9\n",
        "\n",
        "### Escreva um comando em SQL que retorne o produto que tem mais venda por ano e mês"
      ]
    },
    {
      "cell_type": "code",
      "metadata": {
        "id": "01pWhXiIxCtk"
      },
      "source": [
        ""
      ],
      "execution_count": null,
      "outputs": []
    }
  ]
}